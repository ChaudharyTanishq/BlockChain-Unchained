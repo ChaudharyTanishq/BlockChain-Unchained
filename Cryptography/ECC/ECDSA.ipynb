{
 "metadata": {
  "language_info": {
   "codemirror_mode": {
    "name": "ipython",
    "version": 3
   },
   "file_extension": ".py",
   "mimetype": "text/x-python",
   "name": "python",
   "nbconvert_exporter": "python",
   "pygments_lexer": "ipython3",
   "version": "3.8.2-final"
  },
  "orig_nbformat": 2,
  "kernelspec": {
   "name": "python38264bitbe7ee439bedb4c879f7f9cfeefc2ad87",
   "display_name": "Python 3.8.2 64-bit"
  }
 },
 "nbformat": 4,
 "nbformat_minor": 2,
 "cells": [
  {
   "cell_type": "code",
   "execution_count": 1,
   "metadata": {},
   "outputs": [],
   "source": [
    "import random\n",
    "import hashlib\n",
    "from Point import ECPoint\n",
    "common = ECPoint(use_defaults=True)"
   ]
  },
  {
   "cell_type": "code",
   "execution_count": 2,
   "metadata": {},
   "outputs": [],
   "source": [
    "def generate_key_pair():\n",
    "    \"\"\"\n",
    "    returns a public private key pair\n",
    "    \"\"\"\n",
    "\n",
    "    # TODO: check for invalid points\n",
    "    d = random.randint(1, common.n-1)\n",
    "    Qx = d*common.x\n",
    "    Qy = Qx.get_ordinate()\n",
    "\n",
    "    return ((Qx, Qy), d)"
   ]
  },
  {
   "cell_type": "code",
   "execution_count": 3,
   "metadata": {},
   "outputs": [],
   "source": [
    "def validate_public_key(public_key):\n",
    "    # TODO: check for invalid points\n",
    "    \n",
    "    Qx = public_key[0].value\n",
    "    Qy = public_key[1].value\n",
    "    new_point = ECPoint(Qx, Qy, use_defaults=True)\n",
    "\n",
    "    # The following are already checked for making a field element\n",
    "    # assert 0 <= Qx < common.p\n",
    "    # assert 0 <= Qy < common.p\n",
    "\n",
    "    assert new_point.is_point_on_curve()\n"
   ]
  },
  {
   "cell_type": "code",
   "execution_count": 4,
   "metadata": {},
   "outputs": [],
   "source": [
    "# public_key, private_key = generate_key_pair()\n",
    "# validate_public_key(public_key)"
   ]
  }
 ]
}