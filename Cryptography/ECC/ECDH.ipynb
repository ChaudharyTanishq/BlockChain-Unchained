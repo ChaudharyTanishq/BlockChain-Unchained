{
 "metadata": {
  "language_info": {
   "codemirror_mode": {
    "name": "ipython",
    "version": 3
   },
   "file_extension": ".py",
   "mimetype": "text/x-python",
   "name": "python",
   "nbconvert_exporter": "python",
   "pygments_lexer": "ipython3",
   "version": "3.8.2-final"
  },
  "orig_nbformat": 2,
  "kernelspec": {
   "name": "python38264bitbe7ee439bedb4c879f7f9cfeefc2ad87",
   "display_name": "Python 3.8.2 64-bit"
  }
 },
 "nbformat": 4,
 "nbformat_minor": 2,
 "cells": [
  {
   "cell_type": "code",
   "execution_count": 1,
   "metadata": {},
   "outputs": [],
   "source": [
    "import random\n",
    "from Point import ECPoint\n",
    "common = ECPoint(use_defaults=True)"
   ]
  },
  {
   "cell_type": "code",
   "execution_count": 2,
   "metadata": {},
   "outputs": [],
   "source": [
    "def get_private_key(common):\n",
    "    return random.randint(1, common.n-1)"
   ]
  },
  {
   "cell_type": "code",
   "execution_count": 3,
   "metadata": {},
   "outputs": [],
   "source": [
    "def get_public_key(common, self_private_key):\n",
    "    return self_private_key*common.x"
   ]
  },
  {
   "cell_type": "code",
   "execution_count": 4,
   "metadata": {},
   "outputs": [],
   "source": [
    "def get_combined_secret(self_private_key, other_public_key):\n",
    "    return self_private_key*other_public_key"
   ]
  },
  {
   "cell_type": "code",
   "execution_count": 18,
   "metadata": {},
   "outputs": [],
   "source": [
    "def ecdh(a_name=\"A\", b_name=\"B\"):\n",
    "    \"\"\"\n",
    "    Does Deffie Hellman Key exchange on Elliptic Curves.\n",
    "\n",
    "    NOTE: Not intended to be used in production environment.\n",
    "    \"\"\"\n",
    "    print(f\"Getting {a_name}'s key pairs\", end=\" \")\n",
    "    a_private = get_private_key(common)\n",
    "    a_public = get_public_key(common, a_private)\n",
    "    # print(f\"{a_name}'s public key:\\n{a_public}\", end=\"\\n\\n\")\n",
    "    print(\"... done\")\n",
    "\n",
    "    print(f\"Getting {b_name}'s key pairs\", end=\" \")\n",
    "    b_private = get_private_key(common)\n",
    "    b_public = get_public_key(common, b_private)\n",
    "    # print(f\"{b_name}'s public key:\\n{b_public}\", end=\"\\n\\n\")\n",
    "    print(\"... done\")\n",
    "\n",
    "    print(\"Authenticating ...\")\n",
    "    a_secret = get_combined_secret(a_private, b_public)\n",
    "    b_secret = get_combined_secret(b_private, a_public)\n",
    "\n",
    "    if a_secret == b_secret:\n",
    "        return a_secret\n",
    "    else:\n",
    "        return None"
   ]
  },
  {
   "cell_type": "code",
   "execution_count": 19,
   "metadata": {},
   "outputs": [
    {
     "output_type": "stream",
     "name": "stdout",
     "text": [
      "Getting alice's key pairs ... done\nGetting bob's key pairs ... done\nAuthenticating ...\nAuthenticated!\nSecret Value: Value: 13691615696728142173641524918896885923416769457650985868623765411134292286094\t Over Field: Z(115792089237316195423570985008687907853269984665640564039457584007908834671663)\n"
     ]
    }
   ],
   "source": [
    "a = input(\"Enter A's name: \")\n",
    "b = input(\"Enter B's name: \")\n",
    "success = ecdh(a, b)\n",
    "if success:\n",
    "    print(\"Authenticated!\")\n",
    "    print(f\"Secret Value: {success}\")\n",
    "else:\n",
    "    print(\"bruh\")"
   ]
  }
 ]
}